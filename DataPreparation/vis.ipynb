{
 "cells": [
  {
   "cell_type": "code",
   "execution_count": null,
   "metadata": {},
   "outputs": [],
   "source": [
    "import numpy as np\n",
    "import open3d as o3d\n",
    "import plotly.graph_objects as go\n",
    "import pickle\n",
    "from IPython.display import IFrame\n",
    "from Augment import transform\n",
    "import random"
   ]
  },
  {
   "cell_type": "code",
   "execution_count": null,
   "metadata": {},
   "outputs": [],
   "source": [
    "def visualize2clouds(pcd1, pcd2):\n",
    "    fig = go.Figure(\n",
    "    data=[\n",
    "        go.Scatter3d(\n",
    "            x=pcd1[:,0], y=pcd1[:,1], z=pcd1[:,2], \n",
    "            mode='markers',\n",
    "            marker=dict(size=1, color=None)\n",
    "        ),\n",
    "        go.Scatter3d(\n",
    "            x=pcd2[:,0], y=pcd2[:,1], z=pcd2[:,2], \n",
    "            mode='markers',\n",
    "            marker=dict(size=1, color=None)\n",
    "        )\n",
    "    ],\n",
    "    layout=dict(\n",
    "        scene=dict(\n",
    "            xaxis=dict(visible=False),\n",
    "            yaxis=dict(visible=False),\n",
    "            zaxis=dict(visible=False)\n",
    "        )\n",
    "    )\n",
    "    )\n",
    "    return fig"
   ]
  },
  {
   "attachments": {},
   "cell_type": "markdown",
   "metadata": {},
   "source": [
    "## Visualize Training data initially aligned using RANSAC+ICP"
   ]
  },
  {
   "cell_type": "code",
   "execution_count": null,
   "metadata": {},
   "outputs": [],
   "source": [
    "#Replace original by cropped to visualize cropped TOF data\n",
    "with open(\"RANSACData/RANSACTraincropped.pickle\", 'rb') as f:\n",
    "    data = pickle.load(f)\n",
    "src = data['source']\n",
    "tgt = data['target']\n",
    "T = data['transformation']\n",
    "corrs = data['correspondence']\n",
    "index = np.random.randint(len(src))\n",
    "print(index, len(corrs[index]))\n",
    "t_src = o3d.geometry.PointCloud()\n",
    "t_src.points = o3d.utility.Vector3dVector(np.array(src[index]))\n",
    "t_src.transform(np.array(T[index]))\n",
    "fig = visualize2clouds(np.array(t_src.points), tgt[index])\n",
    "fig.show()"
   ]
  },
  {
   "attachments": {},
   "cell_type": "markdown",
   "metadata": {},
   "source": [
    "## Visualize Training data initially aligned using Non-Rigid CPD"
   ]
  },
  {
   "cell_type": "code",
   "execution_count": null,
   "metadata": {},
   "outputs": [],
   "source": [
    "#Replace original by cropped to visualize cropped TOF data\n",
    "with open(\"CPDData/CPDTrainNon-Rigidoriginal.pickle\", 'rb') as f:\n",
    "    data = pickle.load(f)\n",
    "src = data['source']\n",
    "tgt = data['target']\n",
    "T = data['transformation']\n",
    "index = np.random.randint(len(src))\n",
    "print(index)\n",
    "t_src = o3d.geometry.PointCloud()\n",
    "t_src.points = o3d.utility.Vector3dVector(np.array(src[index]))\n",
    "t_src.transform(np.array(T[index]))\n",
    "fig = visualize2clouds(np.array(t_src.points), tgt[index])\n",
    "fig.show()"
   ]
  },
  {
   "attachments": {},
   "cell_type": "markdown",
   "metadata": {},
   "source": [
    "## Visualize Training data initially aligned using Rigid CPD"
   ]
  },
  {
   "cell_type": "code",
   "execution_count": null,
   "metadata": {},
   "outputs": [],
   "source": [
    "#Replace original by cropped to visualize cropped TOF data\n",
    "with open(\"CPDData/CPDTrainRigidoriginal.pickle\", 'rb') as f:\n",
    "    data = pickle.load(f)\n",
    "src = data['source']\n",
    "tgt = data['target']\n",
    "T = data['transformation']\n",
    "index = np.random.randint(len(src))\n",
    "print(index)\n",
    "t_src = o3d.geometry.PointCloud()\n",
    "t_src.points = o3d.utility.Vector3dVector(np.array(src[index]))\n",
    "t_src.transform(np.array(T[index]))\n",
    "fig = visualize2clouds(np.array(t_src.points), tgt[index])\n",
    "fig.show()"
   ]
  },
  {
   "attachments": {},
   "cell_type": "markdown",
   "metadata": {},
   "source": [
    "## Visualize Training data initially aligned using Affine CPD"
   ]
  },
  {
   "cell_type": "code",
   "execution_count": null,
   "metadata": {},
   "outputs": [],
   "source": [
    "#Replace original by cropped to visualize cropped TOF data\n",
    "with open(\"CPDData/CPDTrainAffineoriginal.pickle\", 'rb') as f:\n",
    "    data = pickle.load(f)\n",
    "src = data['source']\n",
    "tgt = data['target']\n",
    "T = data['transformation']\n",
    "index = np.random.randint(len(src))\n",
    "print(index)\n",
    "t_src = o3d.geometry.PointCloud()\n",
    "t_src.points = o3d.utility.Vector3dVector(np.array(src[index]))\n",
    "t_src.transform(np.array(T[index]))\n",
    "fig = visualize2clouds(np.array(t_src.points), tgt[index])\n",
    "fig.show()"
   ]
  }
 ],
 "metadata": {
  "kernelspec": {
   "display_name": "pointaugment",
   "language": "python",
   "name": "python3"
  },
  "language_info": {
   "codemirror_mode": {
    "name": "ipython",
    "version": 3
   },
   "file_extension": ".py",
   "mimetype": "text/x-python",
   "name": "python",
   "nbconvert_exporter": "python",
   "pygments_lexer": "ipython3",
   "version": "3.9.16"
  },
  "orig_nbformat": 4
 },
 "nbformat": 4,
 "nbformat_minor": 2
}
