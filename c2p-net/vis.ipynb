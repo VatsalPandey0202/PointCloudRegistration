{
 "cells": [
  {
   "cell_type": "code",
   "execution_count": null,
   "metadata": {},
   "outputs": [],
   "source": [
    "import numpy as np\n",
    "import open3d as o3d\n",
    "#from probreg import cpd\n",
    "import plotly.graph_objects as go\n",
    "import pickle\n",
    "from IPython.display import IFrame\n",
    "import random\n",
    "import glob\n",
    "\n",
    "def visualize2clouds(pcd1, pcd2):\n",
    "    fig = go.Figure(\n",
    "    data=[\n",
    "        go.Scatter3d(\n",
    "            x=pcd1[:,0], y=pcd1[:,1], z=pcd1[:,2], \n",
    "            mode='markers',\n",
    "            marker=dict(size=1, color=None)\n",
    "        ),\n",
    "        go.Scatter3d(\n",
    "            x=pcd2[:,0], y=pcd2[:,1], z=pcd2[:,2], \n",
    "            mode='markers',\n",
    "            marker=dict(size=1, color=None)\n",
    "        )\n",
    "    ],\n",
    "    layout=dict(\n",
    "        scene=dict(\n",
    "            xaxis=dict(visible=False),\n",
    "            yaxis=dict(visible=False),\n",
    "            zaxis=dict(visible=False)\n",
    "        )\n",
    "    )\n",
    "    )\n",
    "    return fig\n",
    "\n",
    "def transform_point_cloud(point_cloud, transformation_matrix):\n",
    "    # Add homogeneous coordinates to the point cloud\n",
    "    homogeneous_points = np.hstack((point_cloud, np.ones((point_cloud.shape[0], 1))))\n",
    "\n",
    "    # Apply the transformation matrix\n",
    "    transformed_points = np.dot(transformation_matrix, homogeneous_points.T).T\n",
    "\n",
    "    # Remove homogeneous coordinates\n",
    "    transformed_points = transformed_points[:, :3]\n",
    "\n",
    "    return transformed_points"
   ]
  },
  {
   "cell_type": "code",
   "execution_count": null,
   "metadata": {},
   "outputs": [],
   "source": [
    "with open(\"test_output.pickle\", 'rb') as f:#Replace original by cropped to visualize cropped TOF data\n",
    "    data = pickle.load(f)"
   ]
  },
  {
   "cell_type": "code",
   "execution_count": null,
   "metadata": {},
   "outputs": [],
   "source": [
    "index = np.random.randint(len(data['src']))\n",
    "print(index)\n",
    "src = data['src'][index]\n",
    "tgt = data['tgt'][index]\n",
    "fig = visualize2clouds(src, tgt)\n",
    "fig.show()"
   ]
  }
 ],
 "metadata": {
  "kernelspec": {
   "display_name": "c2p",
   "language": "python",
   "name": "python3"
  },
  "language_info": {
   "codemirror_mode": {
    "name": "ipython",
    "version": 3
   },
   "file_extension": ".py",
   "mimetype": "text/x-python",
   "name": "python",
   "nbconvert_exporter": "python",
   "pygments_lexer": "ipython3",
   "version": "3.9.16"
  },
  "orig_nbformat": 4
 },
 "nbformat": 4,
 "nbformat_minor": 2
}
